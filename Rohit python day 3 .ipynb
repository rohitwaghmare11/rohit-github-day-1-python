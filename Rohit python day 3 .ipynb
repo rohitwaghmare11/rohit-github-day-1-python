{
 "cells": [
  {
   "cell_type": "code",
   "execution_count": 2,
   "metadata": {},
   "outputs": [
    {
     "name": "stdout",
     "output_type": "stream",
     "text": [
      "somiron mitra is a very good person\n"
     ]
    }
   ],
   "source": [
    "fullname=\"somiron mitra is a very good person\"\n",
    "print(fullname)"
   ]
  },
  {
   "cell_type": "code",
   "execution_count": 2,
   "metadata": {},
   "outputs": [
    {
     "name": "stdout",
     "output_type": "stream",
     "text": [
      "Saurabh Banait\n"
     ]
    }
   ],
   "source": [
    "# Now remember what we learnt in school?\n",
    "\n",
    "# ---- Noun should always start with a capital letter \n",
    "\n",
    "# ---- Req : to write the name with capital letter \n",
    "\n",
    "fullname1 = \"saurabh banait\"\n",
    "print(fullname1.title())"
   ]
  },
  {
   "cell_type": "code",
   "execution_count": 6,
   "metadata": {},
   "outputs": [
    {
     "name": "stdout",
     "output_type": "stream",
     "text": [
      "Somiron Mitra Is A Very Good Person\n"
     ]
    }
   ],
   "source": [
    "Fullname = \"saurabh banait\"\n",
    "print(fullname.title())"
   ]
  },
  {
   "cell_type": "code",
   "execution_count": 8,
   "metadata": {},
   "outputs": [
    {
     "name": "stdout",
     "output_type": "stream",
     "text": [
      "SOMIRON MITRA IS A VERY GOOD PERSON\n"
     ]
    }
   ],
   "source": [
    "# req : i want to write all the letters in small \n",
    "\n",
    "print(fullname.upper())"
   ]
  },
  {
   "cell_type": "code",
   "execution_count": 10,
   "metadata": {},
   "outputs": [
    {
     "name": "stdout",
     "output_type": "stream",
     "text": [
      "aman tanve\n"
     ]
    }
   ],
   "source": [
    "namefull = \"aman tanve\"\n",
    "print(namefull)"
   ]
  },
  {
   "cell_type": "code",
   "execution_count": 13,
   "metadata": {},
   "outputs": [
    {
     "name": "stdout",
     "output_type": "stream",
     "text": [
      "Aman Tanve\n"
     ]
    }
   ],
   "source": [
    "# Req : to write all the letters in small \n",
    "\n",
    "print(namefull.title())"
   ]
  },
  {
   "cell_type": "code",
   "execution_count": 15,
   "metadata": {},
   "outputs": [
    {
     "name": "stdout",
     "output_type": "stream",
     "text": [
      "AMAN TANVE\n"
     ]
    }
   ],
   "source": [
    "print(namefull.upper())"
   ]
  },
  {
   "cell_type": "code",
   "execution_count": 17,
   "metadata": {},
   "outputs": [
    {
     "name": "stdout",
     "output_type": "stream",
     "text": [
      "mohit atram\n"
     ]
    }
   ],
   "source": [
    "namefull1 = \"MOHIT ATRAM\"\n",
    "print(namefull1.lower())"
   ]
  },
  {
   "cell_type": "code",
   "execution_count": 19,
   "metadata": {},
   "outputs": [
    {
     "name": "stdout",
     "output_type": "stream",
     "text": [
      "Aniket Humne\n"
     ]
    }
   ],
   "source": [
    "name1 = \"Aniket Humne\"\n",
    "print(name1.title())"
   ]
  },
  {
   "cell_type": "code",
   "execution_count": 21,
   "metadata": {},
   "outputs": [
    {
     "name": "stdout",
     "output_type": "stream",
     "text": [
      "prajwal fating\n"
     ]
    }
   ],
   "source": [
    "name2 = \"PRAJWAL FATING\"\n",
    "print(name2.lower())"
   ]
  },
  {
   "cell_type": "code",
   "execution_count": 23,
   "metadata": {},
   "outputs": [
    {
     "name": "stdout",
     "output_type": "stream",
     "text": [
      "Prajwal Fating\n"
     ]
    }
   ],
   "source": [
    "print(name2.title())"
   ]
  },
  {
   "cell_type": "code",
   "execution_count": 24,
   "metadata": {},
   "outputs": [
    {
     "name": "stdout",
     "output_type": "stream",
     "text": [
      "ANIKET HUMNE prajwal fating\n"
     ]
    }
   ],
   "source": [
    "print(name1.upper(),name2.lower())"
   ]
  }
 ],
 "metadata": {
  "kernelspec": {
   "display_name": "Python 3",
   "language": "python",
   "name": "python3"
  },
  "language_info": {
   "codemirror_mode": {
    "name": "ipython",
    "version": 3
   },
   "file_extension": ".py",
   "mimetype": "text/x-python",
   "name": "python",
   "nbconvert_exporter": "python",
   "pygments_lexer": "ipython3",
   "version": "3.8.5"
  }
 },
 "nbformat": 4,
 "nbformat_minor": 4
}
