{
 "cells": [
  {
   "cell_type": "code",
   "execution_count": 11,
   "metadata": {},
   "outputs": [],
   "source": [
    "a=\"garndfather\"\n",
    "b=\"grandmother\"\n",
    "c=\"mummy\"\n",
    "d=\"papa\"\n",
    "e=\"son\"\n",
    "f=\"datughter\"\n",
    "g=\"chacha\"\n",
    "h=\"chachi\"\n",
    "i=\"unkal\"\n",
    "j=\"anti\"\n",
    "k=\"mama\"\n",
    "l=\"mami\""
   ]
  },
  {
   "cell_type": "code",
   "execution_count": 14,
   "metadata": {},
   "outputs": [
    {
     "name": "stdout",
     "output_type": "stream",
     "text": [
      "GARNDFATHER Grandmother mummy PAPA Son datughter CHACHA Chachi unkal ANTI Mama mami\n"
     ]
    }
   ],
   "source": [
    "family=f\"{a.upper()} {b.title()} {c.lower()} {d.upper()} {e.title()} {f.lower()} {g.upper()} {h.title()} {i.lower()} {j.upper()} {k.title()} {l.lower()}\"\n",
    "print(family)"
   ]
  },
  {
   "cell_type": "code",
   "execution_count": null,
   "metadata": {},
   "outputs": [],
   "source": []
  },
  {
   "cell_type": "code",
   "execution_count": null,
   "metadata": {},
   "outputs": [],
   "source": []
  },
  {
   "cell_type": "code",
   "execution_count": 22,
   "metadata": {},
   "outputs": [
    {
     "ename": "SyntaxError",
     "evalue": "unexpected character after line continuation character (<ipython-input-22-f94a01a2b37f>, line 1)",
     "output_type": "error",
     "traceback": [
      "\u001b[1;36m  File \u001b[1;32m\"<ipython-input-22-f94a01a2b37f>\"\u001b[1;36m, line \u001b[1;32m1\u001b[0m\n\u001b[1;33m    family=\\nf\"{a.upper()} ('\\n{b.title()}') {c.lower()} {d.upper()} {e.title()} {f.lower()} {g.upper()} {h.title()} {i.lower()} {j.upper()} {k.title()} {l.lower()}\"\u001b[0m\n\u001b[1;37m                                                                                                                                                                     ^\u001b[0m\n\u001b[1;31mSyntaxError\u001b[0m\u001b[1;31m:\u001b[0m unexpected character after line continuation character\n"
     ]
    }
   ],
   "source": [
    "family=\\nf\"{a.upper()} ('\\n{b.title()}') {c.lower()} {d.upper()} {e.title()} {f.lower()} {g.upper()} {h.title()} {i.lower()} {j.upper()} {k.title()} {l.lower()}\"\n",
    "print(family)"
   ]
  },
  {
   "cell_type": "code",
   "execution_count": null,
   "metadata": {},
   "outputs": [],
   "source": []
  },
  {
   "cell_type": "code",
   "execution_count": null,
   "metadata": {},
   "outputs": [],
   "source": []
  },
  {
   "cell_type": "code",
   "execution_count": 16,
   "metadata": {},
   "outputs": [
    {
     "data": {
      "text/plain": [
       "'mami'"
      ]
     },
     "execution_count": 16,
     "metadata": {},
     "output_type": "execute_result"
    }
   ],
   "source": [
    "\"garndfather\"\n",
    "\"grandmother\"\n",
    "\"mummy\"\n",
    "\"papa\"\n",
    "\"son\"\n",
    "\"datughter\"\n",
    "\"chacha\"\n",
    "\"chachi\"\n",
    "\"unkal\"\n",
    "\"anti\"\n",
    "\"mama\"\n",
    "\"mami\""
   ]
  },
  {
   "cell_type": "code",
   "execution_count": 24,
   "metadata": {},
   "outputs": [
    {
     "ename": "SyntaxError",
     "evalue": "invalid syntax (<ipython-input-24-8d54acc528ea>, line 2)",
     "output_type": "error",
     "traceback": [
      "\u001b[1;36m  File \u001b[1;32m\"<ipython-input-24-8d54acc528ea>\"\u001b[1;36m, line \u001b[1;32m2\u001b[0m\n\u001b[1;33m    print'\\t(f\"{first.title()})'\u001b[0m\n\u001b[1;37m         ^\u001b[0m\n\u001b[1;31mSyntaxError\u001b[0m\u001b[1;31m:\u001b[0m invalid syntax\n"
     ]
    }
   ],
   "source": [
    "first=\"gajanan\"\n",
    "print'\\t(f\"{first.title()})'"
   ]
  },
  {
   "cell_type": "code",
   "execution_count": null,
   "metadata": {},
   "outputs": [],
   "source": []
  },
  {
   "cell_type": "code",
   "execution_count": 26,
   "metadata": {},
   "outputs": [],
   "source": [
    "second='''gajanan\n",
    "mukesh\n",
    "naresh\n",
    "suresh\n",
    "raju\n",
    "kaju\n",
    "namkin'''"
   ]
  },
  {
   "cell_type": "code",
   "execution_count": 27,
   "metadata": {},
   "outputs": [
    {
     "name": "stdout",
     "output_type": "stream",
     "text": [
      "GAJANAN\n",
      "MUKESH\n",
      "NARESH\n",
      "SURESH\n",
      "RAJU\n",
      "KAJU\n",
      "NAMKIN\n"
     ]
    }
   ],
   "source": [
    "print(second.upper())"
   ]
  },
  {
   "cell_type": "code",
   "execution_count": 28,
   "metadata": {},
   "outputs": [
    {
     "name": "stdout",
     "output_type": "stream",
     "text": [
      "Gajanan\n",
      "Mukesh\n",
      "Naresh\n",
      "Suresh\n",
      "Raju\n",
      "Kaju\n",
      "Namkin\n"
     ]
    }
   ],
   "source": [
    "print(second.title())"
   ]
  },
  {
   "cell_type": "code",
   "execution_count": 29,
   "metadata": {},
   "outputs": [
    {
     "name": "stdout",
     "output_type": "stream",
     "text": [
      "gajanan\n",
      "mukesh\n",
      "naresh\n",
      "suresh\n",
      "raju\n",
      "kaju\n",
      "namkin\n"
     ]
    }
   ],
   "source": [
    "print(second.lower())"
   ]
  },
  {
   "cell_type": "code",
   "execution_count": null,
   "metadata": {},
   "outputs": [],
   "source": []
  },
  {
   "cell_type": "code",
   "execution_count": null,
   "metadata": {},
   "outputs": [],
   "source": []
  },
  {
   "cell_type": "code",
   "execution_count": 31,
   "metadata": {},
   "outputs": [
    {
     "name": "stdout",
     "output_type": "stream",
     "text": [
      "Gajanan\n",
      "Mukesh\n",
      "Naresh\n",
      "Suresh\n",
      "Raju\n",
      "Kaju\n",
      "Namkin\n"
     ]
    }
   ],
   "source": [
    "print('''gajanan\n",
    "mukesh\n",
    "naresh\n",
    "suresh\n",
    "raju\n",
    "kaju\n",
    "namkin'''.title())"
   ]
  },
  {
   "cell_type": "code",
   "execution_count": 33,
   "metadata": {},
   "outputs": [
    {
     "name": "stdout",
     "output_type": "stream",
     "text": [
      "GAJANAN\n",
      "MUKESH\n",
      "'\tNARESH'\n",
      "SURESH\n",
      "RAJU\n",
      "KAJU\n",
      "NAMKIN\n"
     ]
    }
   ],
   "source": [
    "print('''gajanan\n",
    "mukesh\n",
    "'\\tnaresh'\n",
    "suresh\n",
    "raju\n",
    "kaju\n",
    "namkin'''.upper())"
   ]
  },
  {
   "cell_type": "code",
   "execution_count": null,
   "metadata": {},
   "outputs": [],
   "source": []
  },
  {
   "cell_type": "code",
   "execution_count": null,
   "metadata": {},
   "outputs": [],
   "source": []
  },
  {
   "cell_type": "code",
   "execution_count": null,
   "metadata": {},
   "outputs": [],
   "source": []
  },
  {
   "cell_type": "code",
   "execution_count": 37,
   "metadata": {},
   "outputs": [
    {
     "name": "stdout",
     "output_type": "stream",
     "text": [
      "papa.upper()\n",
      "\t\tMummy\n"
     ]
    }
   ],
   "source": [
    "print(\"papa.upper()\")\n",
    "print('\\t\\tmummy'.title())"
   ]
  },
  {
   "cell_type": "code",
   "execution_count": null,
   "metadata": {},
   "outputs": [],
   "source": []
  },
  {
   "cell_type": "code",
   "execution_count": null,
   "metadata": {},
   "outputs": [],
   "source": []
  },
  {
   "cell_type": "code",
   "execution_count": 42,
   "metadata": {},
   "outputs": [
    {
     "name": "stdout",
     "output_type": "stream",
     "text": [
      "GARANDFATHER\n",
      "GRANDMOTHER\n",
      "\t\tPapa\n",
      "\t\tMummy\n",
      "\t\t\tson\n",
      "\t\t\tdaughter\n",
      "\n",
      "\n",
      "CHACHA\n",
      "CHACHI\n",
      "\n",
      "\t\tBrother\n",
      "\t\tSister\n",
      "\n",
      "UNKAL\n",
      "UNTI\n",
      "\n",
      "\n",
      "\t\tMosa\n",
      "\t\tMosi\n",
      "\n",
      "\n",
      "BUVA\n",
      "BUVAJI\n",
      "\n",
      "\n",
      "\n",
      "\n",
      "YE SARE KE SARE KAHI MILE TO BTANA POLICE KE NAJAR SE YE LOG BHAG RHE HAI\n"
     ]
    }
   ],
   "source": [
    "print('garandfather'.upper())\n",
    "print('grandmother'.upper())\n",
    "print('\\t\\tpapa'.title())\n",
    "print('\\t\\tmummy'.title())\n",
    "print('\\t\\t\\tson'.lower())\n",
    "print('\\t\\t\\tdaughter'.lower())\n",
    "print('\\n\\nchacha'.upper())\n",
    "print('chachi'.upper())\n",
    "print('\\n\\t\\tbrother'.title())\n",
    "print('\\t\\tsister'.title())\n",
    "print('\\nunkal'.upper())\n",
    "print('unti'.upper())\n",
    "print('\\n\\n\\t\\tmosa'.title())\n",
    "print('\\t\\tmosi'.title())\n",
    "print('\\n\\nbuva'.upper())\n",
    "print('buvaji'.upper())\n",
    "print('\\n\\n\\n\\nye sare ke sare kahi mile to btana police ke najar se ye log bhag rhe hai'.upper())"
   ]
  },
  {
   "cell_type": "code",
   "execution_count": null,
   "metadata": {},
   "outputs": [],
   "source": []
  },
  {
   "cell_type": "code",
   "execution_count": null,
   "metadata": {},
   "outputs": [],
   "source": []
  },
  {
   "cell_type": "code",
   "execution_count": null,
   "metadata": {},
   "outputs": [],
   "source": [
    "print('1 vaibhav nam ka ladka tha uska dream tha bhot bada admi bana usko logo ki help karna bhot pasnd tha oo logo ki he')"
   ]
  }
 ],
 "metadata": {
  "kernelspec": {
   "display_name": "Python 3",
   "language": "python",
   "name": "python3"
  },
  "language_info": {
   "codemirror_mode": {
    "name": "ipython",
    "version": 3
   },
   "file_extension": ".py",
   "mimetype": "text/x-python",
   "name": "python",
   "nbconvert_exporter": "python",
   "pygments_lexer": "ipython3",
   "version": "3.8.5"
  }
 },
 "nbformat": 4,
 "nbformat_minor": 4
}
