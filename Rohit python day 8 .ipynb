{
 "cells": [
  {
   "cell_type": "code",
   "execution_count": null,
   "metadata": {},
   "outputs": [],
   "source": [
    "# rstrip   : -  MEANS THE WIDE SPACE ON RIGHT SIDE ARE CLEARED \n",
    "# lstrip   : -  MEANS THE WIDE SPACE ON LEFT SIDE ARE CLARED\n",
    "# strip    : -  MEANS BOTH RIGHT AND LEFT SIDE SPACE ARE CLEARD "
   ]
  },
  {
   "cell_type": "code",
   "execution_count": 16,
   "metadata": {},
   "outputs": [
    {
     "name": "stdout",
     "output_type": "stream",
     "text": [
      "Gajni\n"
     ]
    }
   ],
   "source": [
    "f=\"                                   gajni\"\n",
    "print(f.title().lstrip())"
   ]
  },
  {
   "cell_type": "code",
   "execution_count": 30,
   "metadata": {},
   "outputs": [
    {
     "data": {
      "text/plain": [
       "'SIKA                          NDAR'"
      ]
     },
     "execution_count": 30,
     "metadata": {},
     "output_type": "execute_result"
    }
   ],
   "source": [
    "f=\"                         sika                          \"                     \"ndar                                     \"\n",
    "f.upper().strip()"
   ]
  },
  {
   "cell_type": "code",
   "execution_count": 14,
   "metadata": {},
   "outputs": [
    {
     "name": "stdout",
     "output_type": "stream",
     "text": [
      "GAJANAN GAJANAN                         \n"
     ]
    }
   ],
   "source": [
    "f=\"          gajanan\"\n",
    "f1=\"gajanan                         \"\n",
    "print(f.upper().lstrip(),f1.upper().lstrip())"
   ]
  },
  {
   "cell_type": "code",
   "execution_count": 15,
   "metadata": {},
   "outputs": [
    {
     "name": "stdout",
     "output_type": "stream",
     "text": [
      "                      YASHVANT                         \n"
     ]
    }
   ],
   "source": [
    "f=\"                      yashvant                         \"\n",
    "print(f.upper())"
   ]
  },
  {
   "cell_type": "code",
   "execution_count": 8,
   "metadata": {},
   "outputs": [
    {
     "name": "stdout",
     "output_type": "stream",
     "text": [
      "                      yashvant\n"
     ]
    }
   ],
   "source": [
    "print(f.lower().rstrip())"
   ]
  },
  {
   "cell_type": "code",
   "execution_count": 9,
   "metadata": {},
   "outputs": [
    {
     "name": "stdout",
     "output_type": "stream",
     "text": [
      "Yashvant\n"
     ]
    }
   ],
   "source": [
    "print(f.title().strip())"
   ]
  },
  {
   "cell_type": "code",
   "execution_count": 31,
   "metadata": {},
   "outputs": [
    {
     "name": "stdout",
     "output_type": "stream",
     "text": [
      "KAHARATEVALEBABA\n"
     ]
    }
   ],
   "source": [
    "h=\"kaharatevale\"                                         \"baba\" \n",
    "print(h.upper())"
   ]
  },
  {
   "cell_type": "code",
   "execution_count": 44,
   "metadata": {},
   "outputs": [
    {
     "name": "stdout",
     "output_type": "stream",
     "text": [
      "                                     kaharatevale                             baba\n",
      "KAHARATEVALE                             BABA          \n",
      "Kaharatevale                             Baba\n",
      "                                     Kaharatevale                             Baba\n"
     ]
    }
   ],
   "source": [
    "h=\"                                     kaharatevale                    \"                                        \"         baba          \"\n",
    "print(h.lower().rstrip())\n",
    "print(h.upper().lstrip())\n",
    "print(h.title().strip())\n",
    "print(h.title().rstrip())"
   ]
  },
  {
   "cell_type": "code",
   "execution_count": null,
   "metadata": {},
   "outputs": [],
   "source": []
  },
  {
   "cell_type": "code",
   "execution_count": null,
   "metadata": {},
   "outputs": [],
   "source": []
  }
 ],
 "metadata": {
  "kernelspec": {
   "display_name": "Python 3",
   "language": "python",
   "name": "python3"
  },
  "language_info": {
   "codemirror_mode": {
    "name": "ipython",
    "version": 3
   },
   "file_extension": ".py",
   "mimetype": "text/x-python",
   "name": "python",
   "nbconvert_exporter": "python",
   "pygments_lexer": "ipython3",
   "version": "3.8.5"
  }
 },
 "nbformat": 4,
 "nbformat_minor": 4
}
