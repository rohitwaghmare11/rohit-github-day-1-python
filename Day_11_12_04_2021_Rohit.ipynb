{
 "cells": [
  {
   "cell_type": "code",
   "execution_count": 2,
   "metadata": {},
   "outputs": [
    {
     "data": {
      "text/plain": [
       "17"
      ]
     },
     "execution_count": 2,
     "metadata": {},
     "output_type": "execute_result"
    }
   ],
   "source": [
    "8+9"
   ]
  },
  {
   "cell_type": "code",
   "execution_count": 3,
   "metadata": {},
   "outputs": [
    {
     "ename": "TypeError",
     "evalue": "insert expected 2 arguments, got 1",
     "output_type": "error",
     "traceback": [
      "\u001b[1;31m---------------------------------------------------------------------------\u001b[0m",
      "\u001b[1;31mTypeError\u001b[0m                                 Traceback (most recent call last)",
      "\u001b[1;32m<ipython-input-3-62ffac3bc67d>\u001b[0m in \u001b[0;36m<module>\u001b[1;34m\u001b[0m\n\u001b[0;32m      1\u001b[0m \u001b[0mname\u001b[0m\u001b[1;33m=\u001b[0m\u001b[1;33m[\u001b[0m\u001b[1;34m'jitendra'\u001b[0m\u001b[1;33m,\u001b[0m\u001b[1;34m'gajendra'\u001b[0m\u001b[1;33m,\u001b[0m\u001b[1;34m'vikky'\u001b[0m\u001b[1;33m]\u001b[0m\u001b[1;33m\u001b[0m\u001b[1;33m\u001b[0m\u001b[0m\n\u001b[1;32m----> 2\u001b[1;33m \u001b[0mname\u001b[0m\u001b[1;33m.\u001b[0m\u001b[0minsert\u001b[0m\u001b[1;33m(\u001b[0m\u001b[1;34m'ganpat'\u001b[0m\u001b[1;33m)\u001b[0m\u001b[1;33m\u001b[0m\u001b[1;33m\u001b[0m\u001b[0m\n\u001b[0m\u001b[0;32m      3\u001b[0m \u001b[0mprint\u001b[0m\u001b[1;33m(\u001b[0m\u001b[0mname\u001b[0m\u001b[1;33m)\u001b[0m\u001b[1;33m\u001b[0m\u001b[1;33m\u001b[0m\u001b[0m\n",
      "\u001b[1;31mTypeError\u001b[0m: insert expected 2 arguments, got 1"
     ]
    }
   ],
   "source": [
    "name=['jitendra','gajendra','vikky']\n",
    "name.insert('ganpat')\n",
    "print(name)"
   ]
  },
  {
   "cell_type": "code",
   "execution_count": 7,
   "metadata": {},
   "outputs": [
    {
     "name": "stdout",
     "output_type": "stream",
     "text": [
      "['ganpat', 'jitendra', 'gajendra', 'vikky']\n"
     ]
    }
   ],
   "source": [
    "# that means the any insert element add any one position and agin the print same command but same potion thet have insert differnt name because i have yose in same code not a use in output code i have use output code and insert any potion for any ward then program run in diffrant way bcause the one element are lso add \n",
    "\n",
    "\n",
    "name=['jitendra','gajendra','vikky']\n",
    "name.insert(0,'ganpat')\n",
    "print(name)"
   ]
  },
  {
   "cell_type": "code",
   "execution_count": 8,
   "metadata": {},
   "outputs": [
    {
     "name": "stdout",
     "output_type": "stream",
     "text": [
      "['jitendra', 'gajendra', 'nilama', 'vikky']\n"
     ]
    }
   ],
   "source": [
    "name=['jitendra','gajendra','vikky']\n",
    "name.insert(2,'nilama')\n",
    "print(name)"
   ]
  },
  {
   "cell_type": "code",
   "execution_count": 9,
   "metadata": {
    "scrolled": true
   },
   "outputs": [
    {
     "name": "stdout",
     "output_type": "stream",
     "text": [
      "['jitendra', 'champak', 'gajendra', 'vikky']\n"
     ]
    }
   ],
   "source": [
    "name=['jitendra','gajendra','vikky']\n",
    "name.insert(1,'champak')\n",
    "print(name)"
   ]
  },
  {
   "cell_type": "code",
   "execution_count": 12,
   "metadata": {},
   "outputs": [
    {
     "name": "stdout",
     "output_type": "stream",
     "text": [
      "['jagdish', 'GURUJI', 'mamu', 'lakda bhai', 'devendra', 'CHANDU BHAU']\n"
     ]
    }
   ],
   "source": [
    "name_1=['jagdish','mamu','lakda bhai','devendra']\n",
    "name_1.append('chandu bhau'.upper())\n",
    "name_1.insert(1,'guruji'.upper())\n",
    "print(name_1)"
   ]
  },
  {
   "cell_type": "code",
   "execution_count": null,
   "metadata": {},
   "outputs": [],
   "source": []
  },
  {
   "cell_type": "code",
   "execution_count": 13,
   "metadata": {},
   "outputs": [],
   "source": [
    "#  Req : - now i want to delete an element"
   ]
  },
  {
   "cell_type": "code",
   "execution_count": null,
   "metadata": {},
   "outputs": [],
   "source": []
  },
  {
   "cell_type": "code",
   "execution_count": 14,
   "metadata": {},
   "outputs": [
    {
     "name": "stdout",
     "output_type": "stream",
     "text": [
      "['jagdish', 'mamu', 'lakda bhai', 'devendra', 'CHANDU BHAU']\n"
     ]
    }
   ],
   "source": [
    "name02=['jagdish', 'GURUJI', 'mamu', 'lakda bhai', 'devendra', 'CHANDU BHAU']\n",
    "del name02[1]\n",
    "print(name02)"
   ]
  },
  {
   "cell_type": "code",
   "execution_count": null,
   "metadata": {},
   "outputs": [],
   "source": [
    "# use in delete command isert and append command use"
   ]
  },
  {
   "cell_type": "code",
   "execution_count": 18,
   "metadata": {},
   "outputs": [
    {
     "name": "stdout",
     "output_type": "stream",
     "text": [
      "['jagdish', 'Gaurav', 'mamu', 'lakda bhai', 'devendra', 'CHANDU BHAU', 'santosh']\n"
     ]
    }
   ],
   "source": [
    "name02=['jagdish', 'GURUJI', 'mamu', 'lakda bhai', 'devendra', 'CHANDU BHAU']\n",
    "name02.append('santosh')\n",
    "name02.insert(2,'gaurav'.title())\n",
    "del name02[1]\n",
    "print(name02)"
   ]
  },
  {
   "cell_type": "code",
   "execution_count": null,
   "metadata": {},
   "outputs": [],
   "source": []
  },
  {
   "cell_type": "code",
   "execution_count": null,
   "metadata": {},
   "outputs": [],
   "source": []
  },
  {
   "cell_type": "code",
   "execution_count": 20,
   "metadata": {},
   "outputs": [
    {
     "ename": "SyntaxError",
     "evalue": "cannot delete function call (<ipython-input-20-cd5647abf892>, line 7)",
     "output_type": "error",
     "traceback": [
      "\u001b[1;36m  File \u001b[1;32m\"<ipython-input-20-cd5647abf892>\"\u001b[1;36m, line \u001b[1;32m7\u001b[0m\n\u001b[1;33m    del name02(1)\u001b[0m\n\u001b[1;37m        ^\u001b[0m\n\u001b[1;31mSyntaxError\u001b[0m\u001b[1;31m:\u001b[0m cannot delete function call\n"
     ]
    }
   ],
   "source": [
    "# because i use in delete command yhis error is depent also bracket i use circular bracket but right bracket use in square bracket \n",
    "\n",
    "\n",
    "name02=['jagdish', 'GURUJI', 'mamu', 'lakda bhai', 'devendra', 'CHANDU BHAU']\n",
    "name02.append('santosh')\n",
    "name02.insert(2,'gaurav'.title())\n",
    "del name02(1)\n",
    "print(name02)"
   ]
  },
  {
   "cell_type": "code",
   "execution_count": 27,
   "metadata": {},
   "outputs": [],
   "source": [
    "#  i use differant differnt comand but use in print option for sepret command and all are run then the output is creat in back to back line not a singl line. but i dont use in print option for differnt differnt command  and i use in codung on continuse order then output is give to single line "
   ]
  },
  {
   "cell_type": "code",
   "execution_count": 28,
   "metadata": {},
   "outputs": [
    {
     "name": "stdout",
     "output_type": "stream",
     "text": [
      "['parag', 'navneet', 'amar', 'rahul', 'bhart', 'nikesh']\n",
      "['parag', 'navneet', 'amar', 'rahul', 'bhart', 'nikesh', 'purshotam']\n",
      "['parag', 'navneet', 'amar', 'PAJI', 'rahul', 'bhart', 'nikesh', 'purshotam']\n",
      "['parag', 'navneet', 'amar', 'PAJI', 'rahul', 'bhart', 'purshotam']\n"
     ]
    }
   ],
   "source": [
    "name03=['parag','navneet','amar','rahul','bhart','nikesh']\n",
    "print(name03)\n",
    "\n",
    "name03.append('purshotam')\n",
    "print(name03)\n",
    "\n",
    "name03.insert(3,'paji'.upper())\n",
    "print(name03)\n",
    "\n",
    "del name03[6]\n",
    "print(name03)"
   ]
  },
  {
   "cell_type": "code",
   "execution_count": null,
   "metadata": {},
   "outputs": [],
   "source": []
  },
  {
   "cell_type": "code",
   "execution_count": 29,
   "metadata": {},
   "outputs": [
    {
     "name": "stdout",
     "output_type": "stream",
     "text": [
      "['parag', 'navneet', 'amar', 'rahul', 'bhart', 'nikesh']\n",
      "['parag', 'navneet', 'amar', 'rahul', 'bhart', 'nikesh', 'purshotam']\n",
      "['parag', 'navneet', 'amar', 'PAJI', 'rahul', 'bhart', 'nikesh', 'purshotam']\n",
      "['parag', 'navneet', 'amar', 'PAJI', 'rahul', 'bhart', 'purshotam']\n"
     ]
    }
   ],
   "source": [
    "name03=['parag','navneet','amar','rahul','bhart','nikesh']\n",
    "print(name03)\n",
    "name03.append('purshotam')\n",
    "print(name03)\n",
    "name03.insert(3,'paji'.upper())\n",
    "print(name03)\n",
    "del name03[6]\n",
    "print(name03)"
   ]
  },
  {
   "cell_type": "code",
   "execution_count": null,
   "metadata": {},
   "outputs": [],
   "source": []
  },
  {
   "cell_type": "code",
   "execution_count": null,
   "metadata": {},
   "outputs": [],
   "source": []
  },
  {
   "cell_type": "code",
   "execution_count": null,
   "metadata": {},
   "outputs": [],
   "source": []
  },
  {
   "cell_type": "code",
   "execution_count": null,
   "metadata": {},
   "outputs": [],
   "source": []
  },
  {
   "cell_type": "code",
   "execution_count": null,
   "metadata": {},
   "outputs": [],
   "source": []
  }
 ],
 "metadata": {
  "kernelspec": {
   "display_name": "Python 3",
   "language": "python",
   "name": "python3"
  },
  "language_info": {
   "codemirror_mode": {
    "name": "ipython",
    "version": 3
   },
   "file_extension": ".py",
   "mimetype": "text/x-python",
   "name": "python",
   "nbconvert_exporter": "python",
   "pygments_lexer": "ipython3",
   "version": "3.8.5"
  }
 },
 "nbformat": 4,
 "nbformat_minor": 4
}
