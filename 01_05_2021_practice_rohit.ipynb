{
 "cells": [
  {
   "cell_type": "code",
   "execution_count": 1,
   "metadata": {},
   "outputs": [],
   "source": [
    "# string "
   ]
  },
  {
   "cell_type": "code",
   "execution_count": 4,
   "metadata": {},
   "outputs": [],
   "source": [
    "# simple prints with quote "
   ]
  },
  {
   "cell_type": "code",
   "execution_count": 5,
   "metadata": {},
   "outputs": [
    {
     "name": "stdout",
     "output_type": "stream",
     "text": [
      "jagdish suhas ganpat sanket santosh jagdish\n"
     ]
    }
   ],
   "source": [
    "name1 = \"jagdish\"\n",
    "name2 = \"suhas\"\n",
    "name3 = \"ganpat\"\n",
    "name4 = \"sanket\"\n",
    "name5 = \"santosh\"\n",
    "\n",
    "print(name1,name2,name3,name4,name5,name1)"
   ]
  },
  {
   "cell_type": "code",
   "execution_count": 27,
   "metadata": {},
   "outputs": [
    {
     "name": "stdout",
     "output_type": "stream",
     "text": [
      "\n",
      "\t JAGDISH\n"
     ]
    }
   ],
   "source": [
    "print('\\n\\t',name1.upper())"
   ]
  },
  {
   "cell_type": "code",
   "execution_count": 28,
   "metadata": {},
   "outputs": [
    {
     "name": "stdout",
     "output_type": "stream",
     "text": [
      "\n",
      "\t\t\t\n",
      "\t\n",
      " SANTOSH\n"
     ]
    }
   ],
   "source": [
    "print('\\n\\t\\t\\t\\n\\t\\n',name5.upper())"
   ]
  },
  {
   "cell_type": "code",
   "execution_count": null,
   "metadata": {},
   "outputs": [],
   "source": []
  },
  {
   "cell_type": "code",
   "execution_count": 6,
   "metadata": {},
   "outputs": [],
   "source": [
    "# upper , lower , title"
   ]
  },
  {
   "cell_type": "code",
   "execution_count": 7,
   "metadata": {},
   "outputs": [
    {
     "name": "stdout",
     "output_type": "stream",
     "text": [
      "JAGDISH suhas Ganpat SANKET santosh\n"
     ]
    }
   ],
   "source": [
    "print(name1.upper(),name2.lower(),name3.title(),name4.upper(),name5.lower())"
   ]
  },
  {
   "cell_type": "code",
   "execution_count": null,
   "metadata": {},
   "outputs": [],
   "source": []
  },
  {
   "cell_type": "code",
   "execution_count": 8,
   "metadata": {},
   "outputs": [],
   "source": [
    "# Quotes :- single , double, triple"
   ]
  },
  {
   "cell_type": "code",
   "execution_count": 10,
   "metadata": {},
   "outputs": [
    {
     "name": "stdout",
     "output_type": "stream",
     "text": [
      "manthan\n"
     ]
    }
   ],
   "source": [
    "# single quote :- print only one line are use \n",
    "\n",
    "\n",
    "A1 = 'manthan'\n",
    "print(A1)"
   ]
  },
  {
   "cell_type": "code",
   "execution_count": 11,
   "metadata": {},
   "outputs": [
    {
     "name": "stdout",
     "output_type": "stream",
     "text": [
      "prakash\n"
     ]
    }
   ],
   "source": [
    "# Double quote :- only one line are use \n",
    "\n",
    "A2 = \"prakash\"\n",
    "print(A2)"
   ]
  },
  {
   "cell_type": "code",
   "execution_count": 12,
   "metadata": {},
   "outputs": [],
   "source": [
    "# Triple Quote :- Multiples lines are use "
   ]
  },
  {
   "cell_type": "code",
   "execution_count": 13,
   "metadata": {},
   "outputs": [
    {
     "name": "stdout",
     "output_type": "stream",
     "text": [
      "shri guru charan sroj nijman mukur sudahr\n",
      "baranu raghu bimal jasu do jayk fal chari\n",
      "budhi hin tanu janike sumiro pavan kumar \n",
      "balabudhi vidya dehu mohi are kalesh bikar \n",
      "jai haunman gyan gun sagar jai kapis tainu lok ujagar \n",
      "ram duth ati lit bal dhama anjani putr pavan sukh nama\n",
      "\n"
     ]
    }
   ],
   "source": [
    "A3 = '''shri guru charan sroj nijman mukur sudahr\n",
    "baranu raghu bimal jasu do jayk fal chari\n",
    "budhi hin tanu janike sumiro pavan kumar \n",
    "balabudhi vidya dehu mohi are kalesh bikar \n",
    "jai haunman gyan gun sagar jai kapis tainu lok ujagar \n",
    "ram duth ati lit bal dhama anjani putr pavan sukh nama\n",
    "'''\n",
    "print(A3)"
   ]
  },
  {
   "cell_type": "code",
   "execution_count": null,
   "metadata": {},
   "outputs": [],
   "source": []
  },
  {
   "cell_type": "code",
   "execution_count": 14,
   "metadata": {},
   "outputs": [],
   "source": [
    "# New line and tab delimiter "
   ]
  },
  {
   "cell_type": "code",
   "execution_count": 17,
   "metadata": {},
   "outputs": [
    {
     "name": "stdout",
     "output_type": "stream",
     "text": [
      "1 din\n",
      "1 ladka aya \n",
      "\t\tuse bhot bhukh lagi thi\n"
     ]
    }
   ],
   "source": [
    "# 1. type\n",
    "\n",
    "name = \"1 din\" \"\\n1 ladka aya \" \"\\n\\t\\tuse bhot bhukh lagi thi\"\n",
    "print(name)"
   ]
  },
  {
   "cell_type": "code",
   "execution_count": 18,
   "metadata": {},
   "outputs": [
    {
     "name": "stdout",
     "output_type": "stream",
     "text": [
      "1 din\n",
      "1 ladka aya\n",
      "\t\tuse bhot bhukh lagi thi\n"
     ]
    }
   ],
   "source": [
    "# 2. type \n",
    "\n",
    "\n",
    "print(\"1 din\" \"\\n1 ladka aya\" \"\\n\\t\\tuse bhot bhukh lagi thi\")"
   ]
  },
  {
   "cell_type": "code",
   "execution_count": 19,
   "metadata": {},
   "outputs": [
    {
     "name": "stdout",
     "output_type": "stream",
     "text": [
      "1 din\n",
      "\n",
      "\t\t1 ladka aya\n",
      "\n",
      "\t\t\t\tuse bhot bhukh lagi thi\n"
     ]
    }
   ],
   "source": [
    "# 3. type \n",
    "\n",
    "\n",
    "print(\"1 din\")\n",
    "print(\"\\n\\t\\t1 ladka aya\")\n",
    "print(\"\\n\\t\\t\\t\\tuse bhot bhukh lagi thi\")"
   ]
  },
  {
   "cell_type": "code",
   "execution_count": 20,
   "metadata": {},
   "outputs": [
    {
     "name": "stdout",
     "output_type": "stream",
     "text": [
      "1 DIN\n",
      "\n",
      "\t\t1 ladka aya\n",
      "\n",
      "\t\t\t\tUse Bhot Bhukh Lagi Thi\n"
     ]
    }
   ],
   "source": [
    "print(\"1 din\".upper())\n",
    "print(\"\\n\\t\\t1 ladka aya\".lower())\n",
    "print(\"\\n\\t\\t\\t\\tuse bhot bhukh lagi thi\".title())"
   ]
  },
  {
   "cell_type": "code",
   "execution_count": null,
   "metadata": {},
   "outputs": [],
   "source": []
  },
  {
   "cell_type": "code",
   "execution_count": 21,
   "metadata": {},
   "outputs": [],
   "source": [
    "# f string "
   ]
  },
  {
   "cell_type": "code",
   "execution_count": 26,
   "metadata": {},
   "outputs": [
    {
     "name": "stdout",
     "output_type": "stream",
     "text": [
      "BJP AAP congress Shivsena rashtravadhi congress\n"
     ]
    }
   ],
   "source": [
    "na1 = \"BjP\"\n",
    "na2 = \"aap\"\n",
    "na3 = \"congress\"\n",
    "na4 = \"shivsena\"\n",
    "na5 = \"rashtravadhi congress\"\n",
    "\n",
    "name = f'{na1.upper()} {na2.upper()} {na3.lower()} {na4.title()} {na5.lower()}'\n",
    "\n",
    "print(name)"
   ]
  },
  {
   "cell_type": "code",
   "execution_count": null,
   "metadata": {},
   "outputs": [],
   "source": []
  },
  {
   "cell_type": "code",
   "execution_count": 29,
   "metadata": {},
   "outputs": [],
   "source": [
    "# White space "
   ]
  },
  {
   "cell_type": "code",
   "execution_count": 30,
   "metadata": {},
   "outputs": [],
   "source": [
    "# there are three types :-  lstrip , rstrip , strip "
   ]
  },
  {
   "cell_type": "code",
   "execution_count": null,
   "metadata": {},
   "outputs": [],
   "source": []
  },
  {
   "cell_type": "code",
   "execution_count": 35,
   "metadata": {},
   "outputs": [
    {
     "name": "stdout",
     "output_type": "stream",
     "text": [
      "\t\t\t\t                   rohit\n",
      "rohit\n",
      "ROHIT\n"
     ]
    }
   ],
   "source": [
    "# lstrip :- only left white space are remove \n",
    "\n",
    "\n",
    "na5me7 = \"                  rohit\"\n",
    "print('\\t\\t\\t\\t',na5me7)\n",
    "print(na5me7.lstrip())\n",
    "print(na5me7.lstrip().upper())"
   ]
  },
  {
   "cell_type": "code",
   "execution_count": 37,
   "metadata": {},
   "outputs": [
    {
     "name": "stdout",
     "output_type": "stream",
     "text": [
      "babuji\n",
      "\t\t\t\t\t\t\n",
      "\n",
      "\n",
      "\t\t BABUJI           \n",
      "BABUJI\n"
     ]
    }
   ],
   "source": [
    "# rstrip :- only right white space are remove \n",
    "\n",
    "\n",
    "name1 = \"babuji           \"\n",
    "\n",
    "print(name1.rstrip())\n",
    "print('\\t\\t\\t\\t\\t\\t\\n\\n\\n\\t\\t',name1.upper())\n",
    "print(name1.rstrip().upper())"
   ]
  },
  {
   "cell_type": "code",
   "execution_count": 42,
   "metadata": {},
   "outputs": [
    {
     "name": "stdout",
     "output_type": "stream",
     "text": [
      "rani\n",
      "\t\t\t\t\t Rani\n",
      "\n",
      "\n",
      "\t\t\t\t\t rani\n"
     ]
    }
   ],
   "source": [
    "# strip :- remove all white space\n",
    "\n",
    "\n",
    "name3 = \"             rani             \"\n",
    "print(name3.strip())\n",
    "\n",
    "\n",
    "name3 = \"rani\"\n",
    "print('\\t\\t\\t\\t\\t',name3.title())\n",
    "\n",
    "\n",
    "name3 = \"rani\"\n",
    "print('\\n\\n\\t\\t\\t\\t\\t',name3.strip())\n",
    "\n",
    "\n",
    "\n"
   ]
  },
  {
   "cell_type": "code",
   "execution_count": null,
   "metadata": {},
   "outputs": [],
   "source": []
  },
  {
   "cell_type": "code",
   "execution_count": null,
   "metadata": {},
   "outputs": [],
   "source": []
  },
  {
   "cell_type": "code",
   "execution_count": 43,
   "metadata": {},
   "outputs": [],
   "source": [
    "                   # LIST "
   ]
  },
  {
   "cell_type": "code",
   "execution_count": null,
   "metadata": {},
   "outputs": [],
   "source": []
  },
  {
   "cell_type": "code",
   "execution_count": 44,
   "metadata": {},
   "outputs": [],
   "source": [
    "# List :- use in \"append\" \"insert\" \"indexing\" \"delete\""
   ]
  },
  {
   "cell_type": "code",
   "execution_count": null,
   "metadata": {},
   "outputs": [],
   "source": []
  },
  {
   "cell_type": "code",
   "execution_count": 45,
   "metadata": {},
   "outputs": [
    {
     "name": "stdout",
     "output_type": "stream",
     "text": [
      "['rohit', 'mohit', 'aniket', 'prajwal', 'rahul', 'varun', 'vipul', 'ashu']\n"
     ]
    }
   ],
   "source": [
    "name_1 = [\"rohit\", \"mohit\", \"aniket\", \"prajwal\", \"rahul\", \"varun\", \"vipul\", \"ashu\"]\n",
    "print(name_1)"
   ]
  },
  {
   "cell_type": "code",
   "execution_count": 47,
   "metadata": {},
   "outputs": [
    {
     "name": "stdout",
     "output_type": "stream",
     "text": [
      "['rohit', 'mohit', 'aniket', 'prajwal', 'rahul', 'varun', 'vipul', 'ashu', 'GAJANAN', 'GAJANAN']\n"
     ]
    }
   ],
   "source": [
    "# APPEND :- add element in last position \n",
    "\n",
    "\n",
    "name_1.append(\"gajanan\".upper())\n",
    "print(name_1)"
   ]
  },
  {
   "cell_type": "code",
   "execution_count": 50,
   "metadata": {},
   "outputs": [
    {
     "name": "stdout",
     "output_type": "stream",
     "text": [
      "\t\t\t ['rohit', 'mohit', 'aniket', 'prajwal', 'rahul', 'VITTHAL', 'VITTHAL', 'varun', 'vipul', 'ashu', 'GAJANAN', 'GAJANAN']\n"
     ]
    }
   ],
   "source": [
    "# INSERT :- add element in any position \n",
    "\n",
    "\n",
    "name_1.insert(5,'vitthal'.upper())\n",
    "print('\\t\\t\\t',name_1)"
   ]
  },
  {
   "cell_type": "code",
   "execution_count": 55,
   "metadata": {},
   "outputs": [
    {
     "name": "stdout",
     "output_type": "stream",
     "text": [
      "['rohit', 'mohit', 'aniket', 'prajwal', 'rahul', 'vipul', 'ashu', 'GAJANAN', 'GAJANAN']\n"
     ]
    }
   ],
   "source": [
    "# DELETE :- delete any element  \n",
    "\n",
    "\n",
    "del name_1[5]\n",
    "print(name_1)"
   ]
  },
  {
   "cell_type": "code",
   "execution_count": 58,
   "metadata": {},
   "outputs": [
    {
     "name": "stdout",
     "output_type": "stream",
     "text": [
      "rohit\n"
     ]
    }
   ],
   "source": [
    "# INDEXING :- seprating any elements \n",
    "\n",
    "print(name_1[0])\n"
   ]
  },
  {
   "cell_type": "code",
   "execution_count": null,
   "metadata": {},
   "outputs": [],
   "source": []
  },
  {
   "cell_type": "code",
   "execution_count": null,
   "metadata": {},
   "outputs": [],
   "source": []
  }
 ],
 "metadata": {
  "kernelspec": {
   "display_name": "Python 3",
   "language": "python",
   "name": "python3"
  },
  "language_info": {
   "codemirror_mode": {
    "name": "ipython",
    "version": 3
   },
   "file_extension": ".py",
   "mimetype": "text/x-python",
   "name": "python",
   "nbconvert_exporter": "python",
   "pygments_lexer": "ipython3",
   "version": "3.8.5"
  }
 },
 "nbformat": 4,
 "nbformat_minor": 4
}
