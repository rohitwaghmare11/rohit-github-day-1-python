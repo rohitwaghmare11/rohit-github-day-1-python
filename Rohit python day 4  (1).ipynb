{
 "cells": [
  {
   "cell_type": "code",
   "execution_count": 1,
   "metadata": {},
   "outputs": [
    {
     "name": "stdout",
     "output_type": "stream",
     "text": [
      "rohit waghmare\n"
     ]
    }
   ],
   "source": [
    "# Introduction to f string \n",
    "\n",
    "# f\"cystom words {placeholder} {placeholder1} ---------- say {n}\n",
    "\n",
    "# Note - Place holder is nothing but the reference points of the variables that we have created \n",
    "\n",
    "first = \"rohit\"\n",
    "\n",
    "last = \"waghmare\"\n",
    "\n",
    "sentence = f\"{first} {last}\"\n",
    "\n",
    "print(sentence)"
   ]
  },
  {
   "cell_type": "code",
   "execution_count": 2,
   "metadata": {},
   "outputs": [
    {
     "name": "stdout",
     "output_type": "stream",
     "text": [
      "my name is rohit waghmare\n"
     ]
    }
   ],
   "source": [
    "sentence0 = f\"my name is {first} {last}\"\n",
    "\n",
    "print(sentence)"
   ]
  },
  {
   "cell_type": "code",
   "execution_count": null,
   "metadata": {},
   "outputs": [],
   "source": []
  },
  {
   "cell_type": "code",
   "execution_count": null,
   "metadata": {},
   "outputs": [],
   "source": []
  },
  {
   "cell_type": "code",
   "execution_count": 10,
   "metadata": {},
   "outputs": [
    {
     "name": "stdout",
     "output_type": "stream",
     "text": [
      "my name is rohit waghmare khushi waghmare khushi waghmare\n"
     ]
    }
   ],
   "source": [
    "first1 = \"khushi\"\n",
    "\n",
    "sentence1 = f\"{sentence1} {first1} {last}\"\n",
    "\n",
    "print(sentence1)"
   ]
  },
  {
   "cell_type": "code",
   "execution_count": null,
   "metadata": {},
   "outputs": [],
   "source": []
  },
  {
   "cell_type": "code",
   "execution_count": 15,
   "metadata": {},
   "outputs": [
    {
     "name": "stdout",
     "output_type": "stream",
     "text": [
      "khushi waghmare\n"
     ]
    }
   ],
   "source": [
    "sentence2 = f\"{first1} {last}\"\n",
    "print(sentence2)"
   ]
  },
  {
   "cell_type": "code",
   "execution_count": null,
   "metadata": {},
   "outputs": [],
   "source": []
  },
  {
   "cell_type": "code",
   "execution_count": 16,
   "metadata": {},
   "outputs": [
    {
     "name": "stdout",
     "output_type": "stream",
     "text": [
      "sangita waghmare\n"
     ]
    }
   ],
   "source": [
    "mother = \"sangita\"\n",
    "\n",
    "sentence3 = f\"{mother} {last}\"\n",
    "\n",
    "print(sentence3)"
   ]
  },
  {
   "cell_type": "code",
   "execution_count": null,
   "metadata": {},
   "outputs": [],
   "source": []
  },
  {
   "cell_type": "code",
   "execution_count": 17,
   "metadata": {},
   "outputs": [
    {
     "name": "stdout",
     "output_type": "stream",
     "text": [
      "hemraj waghmare\n"
     ]
    }
   ],
   "source": [
    "father = \"hemraj\"\n",
    "sentence4 = f\"{father} {last}\"\n",
    "print(sentence4)"
   ]
  },
  {
   "cell_type": "code",
   "execution_count": 19,
   "metadata": {},
   "outputs": [
    {
     "name": "stdout",
     "output_type": "stream",
     "text": [
      "hemraj sangita rohit khushi waghmare\n"
     ]
    }
   ],
   "source": [
    "sentence_all = f\"{father} {mother} {first} {first1} {last}\"\n",
    "print(sentence_all)"
   ]
  },
  {
   "cell_type": "code",
   "execution_count": 22,
   "metadata": {},
   "outputs": [
    {
     "name": "stdout",
     "output_type": "stream",
     "text": [
      "hemrajsangitakhushirohitwaghmare\n"
     ]
    }
   ],
   "source": [
    "sentence_all1 = f\"{father}{mother}{first1}{first}{last}\"\n",
    "print(sentence_all1)"
   ]
  },
  {
   "cell_type": "code",
   "execution_count": null,
   "metadata": {},
   "outputs": [],
   "source": []
  },
  {
   "cell_type": "code",
   "execution_count": 23,
   "metadata": {},
   "outputs": [
    {
     "name": "stdout",
     "output_type": "stream",
     "text": [
      "waghmare hemraj sangita khushi rohit\n"
     ]
    }
   ],
   "source": [
    "sentence_last = f\"{last} {father} {mother} {first1} {first}\"\n",
    "print(sentence_last)"
   ]
  },
  {
   "cell_type": "code",
   "execution_count": null,
   "metadata": {},
   "outputs": [],
   "source": []
  },
  {
   "cell_type": "code",
   "execution_count": null,
   "metadata": {},
   "outputs": [],
   "source": []
  },
  {
   "cell_type": "code",
   "execution_count": 24,
   "metadata": {},
   "outputs": [
    {
     "name": "stdout",
     "output_type": "stream",
     "text": [
      "Hemraj Santuji Waghmare\n"
     ]
    }
   ],
   "source": [
    "# Req : Now i want to write the name in capital letter \n",
    "\n",
    "first = \"hemraj\"\n",
    "\n",
    "middal = \"santuji\"\n",
    "\n",
    "sentence = f\"{first.title()} {middal.title()} {last.title()}\"\n",
    "\n",
    "print(sentence)"
   ]
  },
  {
   "cell_type": "code",
   "execution_count": null,
   "metadata": {},
   "outputs": [],
   "source": []
  },
  {
   "cell_type": "code",
   "execution_count": null,
   "metadata": {},
   "outputs": [],
   "source": []
  },
  {
   "cell_type": "code",
   "execution_count": 25,
   "metadata": {},
   "outputs": [
    {
     "name": "stdout",
     "output_type": "stream",
     "text": [
      "Hemraj Khushi Hemraj Sangita Waghmare\n"
     ]
    }
   ],
   "source": [
    "sentence_all = f\"{first.title()} {first1.title()} {father.title()} {mother.title()} {last.title()}\"\n",
    "print(sentence_all)"
   ]
  },
  {
   "cell_type": "code",
   "execution_count": 27,
   "metadata": {},
   "outputs": [
    {
     "name": "stdout",
     "output_type": "stream",
     "text": [
      "HEMRAJ HEMRAJ\n"
     ]
    }
   ],
   "source": [
    "dimand = f\"{first.upper()} {first.upper()}\"\n",
    "print(dimand)"
   ]
  },
  {
   "cell_type": "code",
   "execution_count": null,
   "metadata": {},
   "outputs": [],
   "source": []
  },
  {
   "cell_type": "code",
   "execution_count": 16,
   "metadata": {},
   "outputs": [
    {
     "ename": "SyntaxError",
     "evalue": "cannot assign to literal (<ipython-input-16-fd278caebb6d>, line 1)",
     "output_type": "error",
     "traceback": [
      "\u001b[1;36m  File \u001b[1;32m\"<ipython-input-16-fd278caebb6d>\"\u001b[1;36m, line \u001b[1;32m1\u001b[0m\n\u001b[1;33m    1 = \"r\"\u001b[0m\n\u001b[1;37m    ^\u001b[0m\n\u001b[1;31mSyntaxError\u001b[0m\u001b[1;31m:\u001b[0m cannot assign to literal\n"
     ]
    }
   ],
   "source": [
    "# sir ye jo program hai ye kayse wrong ho gya maine to write program dala tha ?\n",
    "\n",
    "1 = \"r\"\n",
    "2 = \"o\"\n",
    "3 = \"h\"\n",
    "4 = \"i\"\n",
    "5 = \"t\"\n",
    "\n",
    "parchess = f\"{1.title()}{2.upeer()}{3}{4}{5}\"\n",
    "print(parchess)\n"
   ]
  },
  {
   "cell_type": "code",
   "execution_count": 13,
   "metadata": {},
   "outputs": [
    {
     "ename": "NameError",
     "evalue": "name 'data1' is not defined",
     "output_type": "error",
     "traceback": [
      "\u001b[1;31m---------------------------------------------------------------------------\u001b[0m",
      "\u001b[1;31mNameError\u001b[0m                                 Traceback (most recent call last)",
      "\u001b[1;32m<ipython-input-13-d887f86e1bb1>\u001b[0m in \u001b[0;36m<module>\u001b[1;34m\u001b[0m\n\u001b[0;32m      5\u001b[0m \u001b[0mt5\u001b[0m \u001b[1;33m=\u001b[0m \u001b[1;34m\"t\"\u001b[0m\u001b[1;33m\u001b[0m\u001b[1;33m\u001b[0m\u001b[0m\n\u001b[0;32m      6\u001b[0m \u001b[1;33m\u001b[0m\u001b[0m\n\u001b[1;32m----> 7\u001b[1;33m \u001b[0mparchess\u001b[0m \u001b[1;33m=\u001b[0m \u001b[1;34mf\"{data1.title()}{f2.upeer()}{d3}{j4}{t5}\"\u001b[0m\u001b[1;33m\u001b[0m\u001b[1;33m\u001b[0m\u001b[0m\n\u001b[0m\u001b[0;32m      8\u001b[0m \u001b[0mprint\u001b[0m\u001b[1;33m(\u001b[0m\u001b[0mparchess\u001b[0m\u001b[1;33m)\u001b[0m\u001b[1;33m\u001b[0m\u001b[1;33m\u001b[0m\u001b[0m\n",
      "\u001b[1;31mNameError\u001b[0m: name 'data1' is not defined"
     ]
    }
   ],
   "source": [
    "# sir uper ke program me bola tha ki latter assign nahi kiya per yaha per to letter assign karne ke bad bhi program error aa rha hai aysa q sir ?\n",
    "\n",
    "deta1 = \"r\"\n",
    "f2 = \"o\"\n",
    "d3 = \"h\"\n",
    "j4 = \"i\"\n",
    "t5 = \"t\"\n",
    "\n",
    "parchess = f\"{data1.title()}{f2.upeer()}{d3}{j4}{t5}\"\n",
    "print(parchess)\n"
   ]
  },
  {
   "cell_type": "code",
   "execution_count": null,
   "metadata": {},
   "outputs": [],
   "source": []
  },
  {
   "cell_type": "code",
   "execution_count": 15,
   "metadata": {},
   "outputs": [
    {
     "ename": "SyntaxError",
     "evalue": "invalid syntax (<ipython-input-15-fa204ba5dcb4>, line 1)",
     "output_type": "error",
     "traceback": [
      "\u001b[1;36m  File \u001b[1;32m\"<ipython-input-15-fa204ba5dcb4>\"\u001b[1;36m, line \u001b[1;32m1\u001b[0m\n\u001b[1;33m    sentence all =f\"{first.upper()} {first1.upper()} {mother.upper()} {fatther.upper()} {middal.upper()} {last.upper()}\"\u001b[0m\n\u001b[1;37m             ^\u001b[0m\n\u001b[1;31mSyntaxError\u001b[0m\u001b[1;31m:\u001b[0m invalid syntax\n"
     ]
    }
   ],
   "source": [
    "# sir jaysa maine 'sentence all' likha hai to program wrong aya but uske upar \"sentence_all\" likhha hai to program wright aa rha hai aysa q ?\n",
    "\n",
    "sentence all =f\"{first.upper()} {first1.upper()} {mother.upper()} {fatther.upper()} {middal.upper()} {last.upper()}\"\n",
    "print(sentence all)"
   ]
  },
  {
   "cell_type": "code",
   "execution_count": null,
   "metadata": {},
   "outputs": [],
   "source": []
  },
  {
   "cell_type": "code",
   "execution_count": null,
   "metadata": {},
   "outputs": [],
   "source": []
  },
  {
   "cell_type": "code",
   "execution_count": 19,
   "metadata": {},
   "outputs": [
    {
     "ename": "NameError",
     "evalue": "name 'father' is not defined",
     "output_type": "error",
     "traceback": [
      "\u001b[1;31m---------------------------------------------------------------------------\u001b[0m",
      "\u001b[1;31mNameError\u001b[0m                                 Traceback (most recent call last)",
      "\u001b[1;32m<ipython-input-19-d74d3f324bca>\u001b[0m in \u001b[0;36m<module>\u001b[1;34m\u001b[0m\n\u001b[0;32m      6\u001b[0m \u001b[0msixth\u001b[0m\u001b[1;33m=\u001b[0m\u001b[1;34m\"rohit\"\u001b[0m\u001b[1;33m\u001b[0m\u001b[1;33m\u001b[0m\u001b[0m\n\u001b[0;32m      7\u001b[0m \u001b[1;33m\u001b[0m\u001b[0m\n\u001b[1;32m----> 8\u001b[1;33m \u001b[0mjitendra\u001b[0m \u001b[1;33m=\u001b[0m \u001b[1;34mf\"{first.title()} {father.upper()} {second.title()} {middale.upper()} {third.title()} {mother.upper()} {fourth.title()} {first1.lower()} {fifth.upper()} {sixth.lower()} {first.upper()}\"\u001b[0m\u001b[1;33m\u001b[0m\u001b[1;33m\u001b[0m\u001b[0m\n\u001b[0m\u001b[0;32m      9\u001b[0m \u001b[0mprint\u001b[0m\u001b[1;33m(\u001b[0m\u001b[0mjitendra\u001b[0m\u001b[1;33m)\u001b[0m\u001b[1;33m\u001b[0m\u001b[1;33m\u001b[0m\u001b[0m\n",
      "\u001b[1;31mNameError\u001b[0m: name 'father' is not defined"
     ]
    }
   ],
   "source": [
    "first=\"hemraj\"\n",
    "second=\"santuji\"\n",
    "third=\"sangita\"\n",
    "forth=\"khushi\"\n",
    "fifth=\"papu bhau\"\n",
    "sixth=\"rohit\"\n",
    "\n",
    "jitendra = f\"{first.title()} {father.upper()} {second.title()} {middale.upper()} {third.title()} {mother.upper()} {fourth.title()} {first1.lower()} {fifth.upper()} {sixth.lower()} {first.upper()}\"\n",
    "print(jitendra)"
   ]
  },
  {
   "cell_type": "code",
   "execution_count": 21,
   "metadata": {},
   "outputs": [
    {
     "name": "stdout",
     "output_type": "stream",
     "text": [
      "hemraj santuji sangita khushi papu bhau rohit\n"
     ]
    }
   ],
   "source": [
    "pareshan = f\"{first} {second} {third} {forth} {fifth} {sixth}\"\n",
    "print(pareshan)"
   ]
  },
  {
   "cell_type": "code",
   "execution_count": null,
   "metadata": {},
   "outputs": [],
   "source": []
  },
  {
   "cell_type": "code",
   "execution_count": null,
   "metadata": {},
   "outputs": [],
   "source": []
  },
  {
   "cell_type": "code",
   "execution_count": null,
   "metadata": {},
   "outputs": [],
   "source": [
    "# sir have more and more dbouts \n",
    "\n",
    "# 1. sir i have write \"first=rohit\" and after a type of comment i also type a \"first=hemraj\" ok but i have write a 'first=rohit' and run a program but program mention a command in 'first=hemraj' how come sir ?\n",
    "\n",
    "# 2. sir i have one more dbout (i type in no. not a letter and program are run but program are error why sir ?)\n",
    "\n",
    "# 3. sir i obsurve it but i confused { i write a \"sentence all\" and program run then program is error = i write a \"sentence_all\" and program run ten program is run how come sir ? }\n",
    "\n"
   ]
  },
  {
   "cell_type": "code",
   "execution_count": null,
   "metadata": {},
   "outputs": [],
   "source": []
  },
  {
   "cell_type": "code",
   "execution_count": null,
   "metadata": {},
   "outputs": [],
   "source": []
  },
  {
   "cell_type": "code",
   "execution_count": null,
   "metadata": {},
   "outputs": [],
   "source": []
  }
 ],
 "metadata": {
  "kernelspec": {
   "display_name": "Python 3",
   "language": "python",
   "name": "python3"
  },
  "language_info": {
   "codemirror_mode": {
    "name": "ipython",
    "version": 3
   },
   "file_extension": ".py",
   "mimetype": "text/x-python",
   "name": "python",
   "nbconvert_exporter": "python",
   "pygments_lexer": "ipython3",
   "version": "3.8.5"
  }
 },
 "nbformat": 4,
 "nbformat_minor": 4
}
