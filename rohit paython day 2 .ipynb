{
 "cells": [
  {
   "cell_type": "code",
   "execution_count": 1,
   "metadata": {},
   "outputs": [],
   "source": [
    "# ---- Introduction data type\n",
    "\n",
    "# ---- String \n",
    "# ---- Number \n",
    "\n",
    "# ---- list \n",
    "# ---- Tuple\n",
    "# ---- Dictionary \n",
    "\n",
    "# Now we would be gating into each type of data type and will be discussing "
   ]
  },
  {
   "cell_type": "code",
   "execution_count": 2,
   "metadata": {},
   "outputs": [],
   "source": [
    "# String ---- str\n",
    "# Numbers ---- Integers ---- int\n",
    "# Float --- float\n",
    "# List --- list\n",
    "# Tuple --- tuple\n",
    "# Dictionary --- dict\n",
    "\n",
    "\n",
    "# Classification of Data types\n",
    "\n",
    "# data types can be classifiewd intp 2 types\n",
    "# 1. Mutable Data type (flexible) ---- mutable data type is that which we can edit or alter once it has been declared.\n",
    "# 2. Immutable Data type (fixed) ---- immutable data type is that which cannot be edited or we cannot alter once it has been declared\n"
   ]
  },
  {
   "cell_type": "code",
   "execution_count": 3,
   "metadata": {},
   "outputs": [],
   "source": [
    "# Introduction to string data type \n",
    "# Overview or defn : A string is nothing but a series of characters enclosed in quotes\n",
    "# calssification : string data type is classified as imutable data type \n",
    "# how to define to string \n",
    "# to define a string we have 3 possible ways\n",
    "\n",
    "# 1) single quate\n",
    "# 2) double quate \n",
    "# 3) triple quate"
   ]
  },
  {
   "cell_type": "code",
   "execution_count": 8,
   "metadata": {},
   "outputs": [
    {
     "name": "stdout",
     "output_type": "stream",
     "text": [
      "rohit\n"
     ]
    }
   ],
   "source": [
    "# 1) single Quote\n",
    "\n",
    "name='rohit'\n",
    "print(name)"
   ]
  },
  {
   "cell_type": "code",
   "execution_count": 7,
   "metadata": {},
   "outputs": [
    {
     "name": "stdout",
     "output_type": "stream",
     "text": [
      "ganesh\n"
     ]
    }
   ],
   "source": [
    "# 2) double Quote \n",
    "\n",
    "name1=\"ganesh\"\n",
    "print(name1)"
   ]
  },
  {
   "cell_type": "code",
   "execution_count": 1,
   "metadata": {},
   "outputs": [
    {
     "name": "stdout",
     "output_type": "stream",
     "text": [
      "'arvind'\n"
     ]
    }
   ],
   "source": [
    "# 3) triple Quote\n",
    "\n",
    "name2=\"'arvind'\"\n",
    "print(name2)"
   ]
  },
  {
   "cell_type": "code",
   "execution_count": 17,
   "metadata": {},
   "outputs": [
    {
     "name": "stdout",
     "output_type": "stream",
     "text": [
      "saurabh\n"
     ]
    }
   ],
   "source": [
    "name3='''saurabh'''\n",
    "print(name3)"
   ]
  },
  {
   "cell_type": "code",
   "execution_count": 18,
   "metadata": {},
   "outputs": [
    {
     "ename": "SyntaxError",
     "evalue": "invalid syntax (<ipython-input-18-df8001f243b9>, line 1)",
     "output_type": "error",
     "traceback": [
      "\u001b[1;36m  File \u001b[1;32m\"<ipython-input-18-df8001f243b9>\"\u001b[1;36m, line \u001b[1;32m1\u001b[0m\n\u001b[1;33m    name4=\"\"jagdish\"\"\u001b[0m\n\u001b[1;37m            ^\u001b[0m\n\u001b[1;31mSyntaxError\u001b[0m\u001b[1;31m:\u001b[0m invalid syntax\n"
     ]
    }
   ],
   "source": [
    "name4=\"\"jagdish\"\"\n",
    "print(name4)"
   ]
  },
  {
   "cell_type": "code",
   "execution_count": 19,
   "metadata": {},
   "outputs": [
    {
     "ename": "SyntaxError",
     "evalue": "invalid syntax (<ipython-input-19-52ad96be0816>, line 1)",
     "output_type": "error",
     "traceback": [
      "\u001b[1;36m  File \u001b[1;32m\"<ipython-input-19-52ad96be0816>\"\u001b[1;36m, line \u001b[1;32m1\u001b[0m\n\u001b[1;33m    name5=''digambar''\u001b[0m\n\u001b[1;37m            ^\u001b[0m\n\u001b[1;31mSyntaxError\u001b[0m\u001b[1;31m:\u001b[0m invalid syntax\n"
     ]
    }
   ],
   "source": [
    "name5=''digambar''\n",
    "print(name5)"
   ]
  },
  {
   "cell_type": "code",
   "execution_count": 7,
   "metadata": {},
   "outputs": [
    {
     "name": "stdout",
     "output_type": "stream",
     "text": [
      "Haath hawa mein aise uthaao\n",
      "Taang se tango- karke dikhaao\n",
      "Come to kamariya, jamke hilaao\n",
      "Saans bharo tum saath mein gao\n",
      "\n",
      "Gao jab tak saans hai baaki\n",
      "Gao itni zhor se taaki\n",
      "Jo sunle woh gum ho jaaye\n",
      "Chod ke sab kuch woh bhi gaye\n",
      "\n",
      "Chandu ke chacha ne chandu ki chachi ko,\n",
      "Chandi ke chamche se chatni chatai\n",
      "Chandu ke chacha ne chandu ki chachi ko,\n",
      "Chandi ke chamche se chatni chatai\n"
     ]
    }
   ],
   "source": [
    "song = '''Haath hawa mein aise uthaao\n",
    "Taang se tango- karke dikhaao\n",
    "Come to kamariya, jamke hilaao\n",
    "Saans bharo tum saath mein gao\n",
    "\n",
    "Gao jab tak saans hai baaki\n",
    "Gao itni zhor se taaki\n",
    "Jo sunle woh gum ho jaaye\n",
    "Chod ke sab kuch woh bhi gaye\n",
    "\n",
    "Chandu ke chacha ne chandu ki chachi ko,\n",
    "Chandi ke chamche se chatni chatai\n",
    "Chandu ke chacha ne chandu ki chachi ko,\n",
    "Chandi ke chamche se chatni chatai'''\n",
    "print(song)\n"
   ]
  },
  {
   "cell_type": "code",
   "execution_count": 14,
   "metadata": {},
   "outputs": [
    {
     "ename": "SyntaxError",
     "evalue": "EOL while scanning string literal (<ipython-input-14-a0187c1d466f>, line 1)",
     "output_type": "error",
     "traceback": [
      "\u001b[1;36m  File \u001b[1;32m\"<ipython-input-14-a0187c1d466f>\"\u001b[1;36m, line \u001b[1;32m1\u001b[0m\n\u001b[1;33m    song = \"Haath hawa mein aise uthaao\u001b[0m\n\u001b[1;37m                                       ^\u001b[0m\n\u001b[1;31mSyntaxError\u001b[0m\u001b[1;31m:\u001b[0m EOL while scanning string literal\n"
     ]
    }
   ],
   "source": [
    "song = \"Haath hawa mein aise uthaao\n",
    "Taang se tango- karke dikhaao\n",
    "Come to kamariya, jamke hilaao\n",
    "Saans bharo tum saath mein gao\n",
    "\n",
    "Gao jab tak saans hai baaki\n",
    "Gao itni zhor se taaki\n",
    "Jo sunle woh gum ho jaaye\n",
    "Chod ke sab kuch woh bhi gaye\n",
    "\n",
    "Chandu ke chacha ne chandu ki chachi ko,\n",
    "Chandi ke chamche se chatni chatai\n",
    "Chandu ke chacha ne chandu ki chachi ko,\n",
    "Chandi ke chamche se chatni chatai\"\n",
    "print(song)"
   ]
  },
  {
   "cell_type": "code",
   "execution_count": 16,
   "metadata": {},
   "outputs": [
    {
     "name": "stdout",
     "output_type": "stream",
     "text": [
      "Haath hawa mein aise uthaao\n",
      "Taang se tango- karke dikhaao\n",
      "Come to kamariya, jamke hilaao\n",
      "Saans bharo tum saath mein gao\n",
      "\n",
      "Gao jab tak saans hai baaki\n",
      "Gao itni zhor se taaki\n",
      "Jo sunle woh gum ho jaaye\n",
      "Chod ke sab kuch woh bhi gaye\n",
      "\n",
      "Chandu ke chacha ne chandu ki chachi ko,\n",
      "Chandi ke chamche se chatni chatai\n",
      "Chandu ke chacha ne chandu ki chachi ko,\n",
      "Chandi ke chamche se chatni chatai\n",
      "\n"
     ]
    }
   ],
   "source": [
    "song = \"\"\"Haath hawa mein aise uthaao\n",
    "Taang se tango- karke dikhaao\n",
    "Come to kamariya, jamke hilaao\n",
    "Saans bharo tum saath mein gao\n",
    "\n",
    "Gao jab tak saans hai baaki\n",
    "Gao itni zhor se taaki\n",
    "Jo sunle woh gum ho jaaye\n",
    "Chod ke sab kuch woh bhi gaye\n",
    "\n",
    "Chandu ke chacha ne chandu ki chachi ko,\n",
    "Chandi ke chamche se chatni chatai\n",
    "Chandu ke chacha ne chandu ki chachi ko,\n",
    "Chandi ke chamche se chatni chatai\n",
    "\"\"\"\n",
    "print(song)"
   ]
  },
  {
   "cell_type": "code",
   "execution_count": 20,
   "metadata": {},
   "outputs": [],
   "source": [
    "# sir i have 1 dbout i have enter a singl quote ('')or(\"\")and double quate ('''')or(\"\"\"\")also for adding a song then program is not run  \n",
    "# but i have enter in triple quate ('''''')or(\"\"\"\"\"\")ten peogram are run \n",
    "# sir singal and double quate are dont run bur why ?"
   ]
  },
  {
   "cell_type": "code",
   "execution_count": 25,
   "metadata": {},
   "outputs": [
    {
     "name": "stdout",
     "output_type": "stream",
     "text": [
      "mohit\n"
     ]
    }
   ],
   "source": [
    "# sir small program \n",
    "# like that \n",
    "name6='mohit'\n",
    "print(name6)\n",
    "# sir this type of program is run but big program like song are not run in single quate"
   ]
  },
  {
   "cell_type": "code",
   "execution_count": 28,
   "metadata": {},
   "outputs": [
    {
     "ename": "SyntaxError",
     "evalue": "EOL while scanning string literal (<ipython-input-28-a9b5ba86bbd5>, line 1)",
     "output_type": "error",
     "traceback": [
      "\u001b[1;36m  File \u001b[1;32m\"<ipython-input-28-a9b5ba86bbd5>\"\u001b[1;36m, line \u001b[1;32m1\u001b[0m\n\u001b[1;33m    song='Haath hawa mein aise uthaao\u001b[0m\n\u001b[1;37m                                     ^\u001b[0m\n\u001b[1;31mSyntaxError\u001b[0m\u001b[1;31m:\u001b[0m EOL while scanning string literal\n"
     ]
    }
   ],
   "source": [
    "song='Haath hawa mein aise uthaao\n",
    "Taang se tango- karke dikhaao\n",
    "Come to kamariya, jamke hilaao\n",
    "Saans bharo tum saath mein gao\n",
    "\n",
    "Gao jab tak saans hai baaki\n",
    "Gao itni zhor se taaki\n",
    "Jo sunle woh gum ho jaaye\n",
    "Chod ke sab kuch woh bhi gaye\n",
    "\n",
    "Chandu ke chacha ne chandu ki chachi ko,\n",
    "Chandi ke chamche se chatni chatai\n",
    "Chandu ke chacha ne chandu ki chachi ko,\n",
    "Chandi ke chamche se chatni chatai'\n",
    "print(song)\n",
    "\n",
    "# this type of program is error sir and same as double quate"
   ]
  },
  {
   "cell_type": "code",
   "execution_count": 34,
   "metadata": {},
   "outputs": [
    {
     "name": "stdout",
     "output_type": "stream",
     "text": [
      "aman\n"
     ]
    }
   ],
   "source": [
    "# and double quate are small program are run but bg program are not run \n",
    "# like that \n",
    "\n",
    "name7=\"aman\"\n",
    "print(name7)\n",
    "\n",
    "# also same double quate are run for small program and big program are not run"
   ]
  },
  {
   "cell_type": "code",
   "execution_count": 37,
   "metadata": {},
   "outputs": [
    {
     "ename": "SyntaxError",
     "evalue": "EOL while scanning string literal (<ipython-input-37-77baa68553e3>, line 1)",
     "output_type": "error",
     "traceback": [
      "\u001b[1;36m  File \u001b[1;32m\"<ipython-input-37-77baa68553e3>\"\u001b[1;36m, line \u001b[1;32m1\u001b[0m\n\u001b[1;33m    song=\"Haath hawa mein aise uthaao\u001b[0m\n\u001b[1;37m                                     ^\u001b[0m\n\u001b[1;31mSyntaxError\u001b[0m\u001b[1;31m:\u001b[0m EOL while scanning string literal\n"
     ]
    }
   ],
   "source": [
    "song=\"Haath hawa mein aise uthaao\n",
    "Taang se tango- karke dikhaao\n",
    "Come to kamariya, jamke hilaao\n",
    "Saans bharo tum saath mein gao\n",
    "\n",
    "Gao jab tak saans hai baaki\n",
    "Gao itni zhor se taaki\n",
    "Jo sunle woh gum ho jaaye\n",
    "Chod ke sab kuch woh bhi gaye\n",
    "\n",
    "Chandu ke chacha ne chandu ki chachi ko,\n",
    "Chandi ke chamche se chatni chatai\n",
    "Chandu ke chacha ne chandu ki chachi ko,\n",
    "Chandi ke chamche se chatni chatai\"\n",
    "print(song)\n",
    "\n",
    "# this program is not run but i have enter in triple quate this program are run "
   ]
  },
  {
   "cell_type": "code",
   "execution_count": 41,
   "metadata": {},
   "outputs": [
    {
     "name": "stdout",
     "output_type": "stream",
     "text": [
      "akash\n"
     ]
    }
   ],
   "source": [
    "# this three quate program are run in small and big file also \n",
    "\n",
    "name8=\"\"\"akash\"\"\"\n",
    "print(name8)"
   ]
  },
  {
   "cell_type": "code",
   "execution_count": 46,
   "metadata": {},
   "outputs": [
    {
     "name": "stdout",
     "output_type": "stream",
     "text": [
      "gaju akash\n"
     ]
    }
   ],
   "source": [
    "name9='''gaju'''\n",
    "print(name9,name8)"
   ]
  },
  {
   "cell_type": "code",
   "execution_count": 49,
   "metadata": {},
   "outputs": [
    {
     "name": "stdout",
     "output_type": "stream",
     "text": [
      "Haath hawa mein aise uthaao\n",
      "Taang se tango- karke dikhaao\n",
      "Come to kamariya, jamke hilaao\n",
      "Saans bharo tum saath mein gao\n",
      "\n",
      "Gao jab tak saans hai baaki\n",
      "Gao itni zhor se taaki\n",
      "Jo sunle woh gum ho jaaye\n",
      "Chod ke sab kuch woh bhi gaye\n",
      "\n",
      "Chandu ke chacha ne chandu ki chachi ko,\n",
      "Chandi ke chamche se chatni chatai\n",
      "Chandu ke chacha ne chandu ki chachi ko,\n",
      "Chandi ke chamche se chatni chatai\n",
      "\n"
     ]
    }
   ],
   "source": [
    "song1='''Haath hawa mein aise uthaao\n",
    "Taang se tango- karke dikhaao\n",
    "Come to kamariya, jamke hilaao\n",
    "Saans bharo tum saath mein gao\n",
    "\n",
    "Gao jab tak saans hai baaki\n",
    "Gao itni zhor se taaki\n",
    "Jo sunle woh gum ho jaaye\n",
    "Chod ke sab kuch woh bhi gaye\n",
    "\n",
    "Chandu ke chacha ne chandu ki chachi ko,\n",
    "Chandi ke chamche se chatni chatai\n",
    "Chandu ke chacha ne chandu ki chachi ko,\n",
    "Chandi ke chamche se chatni chatai\n",
    "'''\n",
    "print(song1)"
   ]
  },
  {
   "cell_type": "code",
   "execution_count": 51,
   "metadata": {},
   "outputs": [
    {
     "name": "stdout",
     "output_type": "stream",
     "text": [
      "Haath hawa mein aise uthaao\n",
      "Taang se tango- karke dikhaao\n",
      "Come to kamariya, jamke hilaao\n",
      "Saans bharo tum saath mein gao\n",
      "\n",
      "Gao jab tak saans hai baaki\n",
      "Gao itni zhor se taaki\n",
      "Jo sunle woh gum ho jaaye\n",
      "Chod ke sab kuch woh bhi gaye\n",
      "\n",
      "Chandu ke chacha ne chandu ki chachi ko,\n",
      "Chandi ke chamche se chatni chatai\n",
      "Chandu ke chacha ne chandu ki chachi ko,\n",
      "Chandi ke chamche se chatni chatai\n",
      "\n"
     ]
    }
   ],
   "source": [
    "song2=\"\"\"Haath hawa mein aise uthaao\n",
    "Taang se tango- karke dikhaao\n",
    "Come to kamariya, jamke hilaao\n",
    "Saans bharo tum saath mein gao\n",
    "\n",
    "Gao jab tak saans hai baaki\n",
    "Gao itni zhor se taaki\n",
    "Jo sunle woh gum ho jaaye\n",
    "Chod ke sab kuch woh bhi gaye\n",
    "\n",
    "Chandu ke chacha ne chandu ki chachi ko,\n",
    "Chandi ke chamche se chatni chatai\n",
    "Chandu ke chacha ne chandu ki chachi ko,\n",
    "Chandi ke chamche se chatni chatai\n",
    "\"\"\"\n",
    "print(song2)"
   ]
  },
  {
   "cell_type": "code",
   "execution_count": 52,
   "metadata": {},
   "outputs": [
    {
     "name": "stdout",
     "output_type": "stream",
     "text": [
      "Haath hawa mein aise uthaao\n",
      "Taang se tango- karke dikhaao\n",
      "Come to kamariya, jamke hilaao\n",
      "Saans bharo tum saath mein gao\n",
      "\n",
      "Gao jab tak saans hai baaki\n",
      "Gao itni zhor se taaki\n",
      "Jo sunle woh gum ho jaaye\n",
      "Chod ke sab kuch woh bhi gaye\n",
      "\n",
      "Chandu ke chacha ne chandu ki chachi ko,\n",
      "Chandi ke chamche se chatni chatai\n",
      "Chandu ke chacha ne chandu ki chachi ko,\n",
      "Chandi ke chamche se chatni chatai\n",
      " Haath hawa mein aise uthaao\n",
      "Taang se tango- karke dikhaao\n",
      "Come to kamariya, jamke hilaao\n",
      "Saans bharo tum saath mein gao\n",
      "\n",
      "Gao jab tak saans hai baaki\n",
      "Gao itni zhor se taaki\n",
      "Jo sunle woh gum ho jaaye\n",
      "Chod ke sab kuch woh bhi gaye\n",
      "\n",
      "Chandu ke chacha ne chandu ki chachi ko,\n",
      "Chandi ke chamche se chatni chatai\n",
      "Chandu ke chacha ne chandu ki chachi ko,\n",
      "Chandi ke chamche se chatni chatai\n",
      "\n"
     ]
    }
   ],
   "source": [
    "print(song1,song2)"
   ]
  }
 ],
 "metadata": {
  "kernelspec": {
   "display_name": "Python 3",
   "language": "python",
   "name": "python3"
  },
  "language_info": {
   "codemirror_mode": {
    "name": "ipython",
    "version": 3
   },
   "file_extension": ".py",
   "mimetype": "text/x-python",
   "name": "python",
   "nbconvert_exporter": "python",
   "pygments_lexer": "ipython3",
   "version": "3.8.5"
  }
 },
 "nbformat": 4,
 "nbformat_minor": 4
}
