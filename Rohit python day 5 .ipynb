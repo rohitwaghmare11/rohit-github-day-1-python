{
 "cells": [
  {
   "cell_type": "code",
   "execution_count": 1,
   "metadata": {},
   "outputs": [],
   "source": [
    "#  Adding spaces to strings\n",
    "\n",
    "#  fav_subject python C C++ java maths english HTML"
   ]
  },
  {
   "cell_type": "code",
   "execution_count": 2,
   "metadata": {},
   "outputs": [
    {
     "name": "stdout",
     "output_type": "stream",
     "text": [
      "fev_subject python C C++ java maths english HTML\n"
     ]
    }
   ],
   "source": [
    "print(\"fev_subject python C C++ java maths english HTML\")"
   ]
  },
  {
   "cell_type": "code",
   "execution_count": 3,
   "metadata": {},
   "outputs": [
    {
     "name": "stdout",
     "output_type": "stream",
     "text": [
      "fev_subjectpythonCC++javamathsenglishHtML\n"
     ]
    }
   ],
   "source": [
    "print(\"fev_subjectpythonCC++javamathsenglishHtML\")"
   ]
  },
  {
   "cell_type": "code",
   "execution_count": 5,
   "metadata": {},
   "outputs": [
    {
     "name": "stdout",
     "output_type": "stream",
     "text": [
      "fev_subject\n",
      "python\n",
      "C\n",
      "C++\n",
      "java\n",
      "maths\n",
      "english\n",
      "HTML\n"
     ]
    }
   ],
   "source": [
    "print('fev_subject' '\\npython' '\\nC' '\\nC++' '\\njava''\\nmaths' '\\nenglish' '\\nHTML')"
   ]
  },
  {
   "cell_type": "code",
   "execution_count": null,
   "metadata": {},
   "outputs": [],
   "source": []
  },
  {
   "cell_type": "code",
   "execution_count": null,
   "metadata": {},
   "outputs": [],
   "source": []
  },
  {
   "cell_type": "code",
   "execution_count": 6,
   "metadata": {},
   "outputs": [],
   "source": [
    "#  '\\n' is a new line delimiter"
   ]
  },
  {
   "cell_type": "code",
   "execution_count": null,
   "metadata": {},
   "outputs": [],
   "source": []
  },
  {
   "cell_type": "code",
   "execution_count": 7,
   "metadata": {},
   "outputs": [
    {
     "name": "stdout",
     "output_type": "stream",
     "text": [
      "fev_subject\n",
      "python\n",
      "C\n",
      "\n",
      "\n",
      "     C++\n",
      "\n"
     ]
    }
   ],
   "source": [
    "print('fev_subject' '\\npython' '\\nC' '\\n' '\\n' '\\n     C++'  '\\n')"
   ]
  },
  {
   "cell_type": "code",
   "execution_count": 8,
   "metadata": {},
   "outputs": [
    {
     "name": "stdout",
     "output_type": "stream",
     "text": [
      "familypapamummysondaughter\n"
     ]
    }
   ],
   "source": [
    "print('familypapamummysondaughter')"
   ]
  },
  {
   "cell_type": "code",
   "execution_count": null,
   "metadata": {},
   "outputs": [],
   "source": []
  },
  {
   "cell_type": "code",
   "execution_count": 10,
   "metadata": {},
   "outputs": [
    {
     "name": "stdout",
     "output_type": "stream",
     "text": [
      "family\n",
      "papa\n",
      "mummy\n",
      "\tson\n",
      "\t   daughter\n"
     ]
    }
   ],
   "source": [
    "print('family' '\\npapa' '\\nmummy' '\\n\\tson' '\\n\\t   daughter')"
   ]
  },
  {
   "cell_type": "code",
   "execution_count": null,
   "metadata": {},
   "outputs": [],
   "source": []
  },
  {
   "cell_type": "code",
   "execution_count": null,
   "metadata": {},
   "outputs": [],
   "source": []
  },
  {
   "cell_type": "code",
   "execution_count": 11,
   "metadata": {},
   "outputs": [],
   "source": [
    "# '\\t' ---- is tab delimeter"
   ]
  },
  {
   "cell_type": "code",
   "execution_count": null,
   "metadata": {},
   "outputs": [],
   "source": []
  },
  {
   "cell_type": "code",
   "execution_count": 12,
   "metadata": {},
   "outputs": [
    {
     "name": "stdout",
     "output_type": "stream",
     "text": [
      "family\n",
      "\tpapa\n",
      "\tmummy\n",
      "\t\tson\n",
      "\t\tdaughter\n"
     ]
    }
   ],
   "source": [
    "print('family' '\\n\\tpapa' '\\n\\tmummy' \"\\n\\t\\tson\" '\\n\\t\\tdaughter')"
   ]
  },
  {
   "cell_type": "code",
   "execution_count": 13,
   "metadata": {},
   "outputs": [
    {
     "name": "stdout",
     "output_type": "stream",
     "text": [
      "familygrandfathergrandmotherpapamummysondaughterchahachachibhaibehen\n"
     ]
    }
   ],
   "source": [
    "print(\"familygrandfathergrandmotherpapamummysondaughterchahachachibhaibehen\")"
   ]
  },
  {
   "cell_type": "code",
   "execution_count": 14,
   "metadata": {},
   "outputs": [
    {
     "name": "stdout",
     "output_type": "stream",
     "text": [
      "\n",
      "family\n",
      "\t grandfather\n",
      "\t grandmother\n",
      "\t\t  papa\n",
      "\t\t  mummy\n",
      "\t\t\t son\n",
      "\t\n",
      "\t\tdaughter\n",
      "\n",
      "\t\t\t\tchacha\n",
      "\t\t\t\t  chachi\n",
      "\n",
      "\t\t\t\n",
      " bhai\n",
      "\n",
      "\t\t\t\t\t\t\t\t     behen\n"
     ]
    }
   ],
   "source": [
    "print(\"\\nfamily\" \"\\n\\t grandfather\" \"\\n\\t grandmother\" \"\\n\\t\\t  papa\"  \"\\n\\t\\t  mummy\"  \"\\n\\t\\t\\t son\"  \"\\n\\t\\n\\t\\tdaughter\"  \"\\n\\n\\t\\t\\t\\tchacha\"  \"\\n\\t\\t\\t\\t  chachi\"  \"\\n\\n\\t\\t\\t\\n bhai\"  \"\\n\\n\\t\\t\\t\\t\\t\\t\\t\\t     behen\")"
   ]
  },
  {
   "cell_type": "code",
   "execution_count": null,
   "metadata": {},
   "outputs": [],
   "source": []
  },
  {
   "cell_type": "code",
   "execution_count": null,
   "metadata": {},
   "outputs": [],
   "source": []
  },
  {
   "cell_type": "code",
   "execution_count": 39,
   "metadata": {},
   "outputs": [
    {
     "name": "stdout",
     "output_type": "stream",
     "text": [
      "\n",
      "        r\n",
      "\n",
      "o                h\n"
     ]
    }
   ],
   "source": [
    "# triangle \n",
    "\n",
    "print('\\n        r'  '\\n\\no                h')"
   ]
  },
  {
   "cell_type": "code",
   "execution_count": 33,
   "metadata": {},
   "outputs": [
    {
     "name": "stdout",
     "output_type": "stream",
     "text": [
      "\n",
      "r        o\n",
      "\n",
      "\n",
      "\n",
      "h        i\n"
     ]
    }
   ],
   "source": [
    "# square\n",
    "\n",
    "print('\\nr        o' '\\n\\n\\n\\nh        i'  '')"
   ]
  },
  {
   "cell_type": "code",
   "execution_count": null,
   "metadata": {},
   "outputs": [],
   "source": []
  },
  {
   "cell_type": "code",
   "execution_count": 38,
   "metadata": {},
   "outputs": [
    {
     "name": "stdout",
     "output_type": "stream",
     "text": [
      "\n",
      "r                 o\n",
      "\n",
      "\n",
      "h                 i\n"
     ]
    }
   ],
   "source": [
    "# rectangle\n",
    "\n",
    "print('\\nr                 o' '\\n\\n\\nh                 i' )"
   ]
  },
  {
   "cell_type": "code",
   "execution_count": 50,
   "metadata": {},
   "outputs": [
    {
     "name": "stdout",
     "output_type": "stream",
     "text": [
      "\n",
      "      r     \n",
      "o\n",
      "\t  h\n",
      "i\n",
      "     t\n"
     ]
    }
   ],
   "source": [
    "# circle \n",
    "\n",
    "\n",
    "print('\\n      r     ' '\\no' '\\n\\t  h' '\\ni' '\\n     t')"
   ]
  },
  {
   "cell_type": "code",
   "execution_count": null,
   "metadata": {},
   "outputs": [],
   "source": []
  },
  {
   "cell_type": "code",
   "execution_count": 70,
   "metadata": {},
   "outputs": [
    {
     "name": "stdout",
     "output_type": "stream",
     "text": [
      "\n",
      "          r\n",
      "\n",
      "     o        h\n",
      "i                   g  \n",
      "     t        a\n",
      "\n",
      "         w\n",
      "  a             r\n"
     ]
    }
   ],
   "source": [
    "# star \n",
    "\n",
    "print('\\n          r' '\\n\\n     o        h' '\\ni                   g  ' '\\n     t        a' '\\n\\n         w' '\\n  a             r' )"
   ]
  },
  {
   "cell_type": "code",
   "execution_count": null,
   "metadata": {},
   "outputs": [],
   "source": []
  }
 ],
 "metadata": {
  "kernelspec": {
   "display_name": "Python 3",
   "language": "python",
   "name": "python3"
  },
  "language_info": {
   "codemirror_mode": {
    "name": "ipython",
    "version": 3
   },
   "file_extension": ".py",
   "mimetype": "text/x-python",
   "name": "python",
   "nbconvert_exporter": "python",
   "pygments_lexer": "ipython3",
   "version": "3.8.5"
  }
 },
 "nbformat": 4,
 "nbformat_minor": 4
}
